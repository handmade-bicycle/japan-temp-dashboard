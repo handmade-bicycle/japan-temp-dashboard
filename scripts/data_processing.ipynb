{
 "cells": [
  {
   "cell_type": "code",
   "execution_count": 1,
   "metadata": {},
   "outputs": [],
   "source": [
    "import pandas as pd\n",
    "import codecs\n",
    "from pykakasi import kakasi\n",
    "import mojimoji"
   ]
  },
  {
   "cell_type": "code",
   "execution_count": null,
   "metadata": {},
   "outputs": [],
   "source": [
    "def jp2en(name):\n",
    "    \"\"\"convert from japanese character \"katakana\" to roman character\"\"\"\n",
    "    \n",
    "    text = name\n",
    "    kakasi = kakasi()  # Generate kakasi instance\n",
    "\n",
    "    text = mojimoji.han_to_zen(text,ascii=False)\n",
    "    #kakasi.setMode(\"H\", \"a\")  # Hiragana to ascii\n",
    "    kakasi.setMode(\"K\", \"a\")  # Katakana to ascii\n",
    "    kakasi.setMode(\"J\", \"a\")  # Japanese(kanji) to ascii\n",
    "\n",
    "    kakasi.setMode(\"r\", \"Hepburn\")  # Use Hepburn romanization\n",
    "\n",
    "    conv = kakasi.getConverter()\n",
    "    result = conv.do(text)\n",
    "    result = str.capitalize(result)\n",
    "    return result"
   ]
  },
  {
   "cell_type": "code",
   "execution_count": null,
   "metadata": {},
   "outputs": [],
   "source": [
    "def read_master_file():\n",
    "    \"\"\"read csv of ame_master.csv as observation_points\"\"\"\n",
    "    \n",
    "    with codecs.open(\"ame_master.csv\", \"r\", \"Shift-JIS\", \"ignore\") as file:\n",
    "        observation_points = pd.read_table(file, delimiter=\",\")\n",
    "\n",
    "    #convert column names from japanese to english\n",
    "    observation_points = observation_points.rename(columns={\"都府県振興局\":\"area\",\n",
    "                                                            \"観測所番号\":\"observation ID\", \n",
    "                                                            \"種類\":\"type\",\n",
    "                                                            \"観測所名\":\"point\",\n",
    "                                                            \"ｶﾀｶﾅ名\":\"katakana\",\n",
    "                                                            \"所在地\":\"adress\",\n",
    "                                                            \"緯度(度)\":\"latitude degree\",\n",
    "                                                            \"緯度(分)\":\"latitude minute\",\n",
    "                                                            \"経度(度)\":\"longitude degree\",\n",
    "                                                            \"経度(分)\":\"longitude minute\",\n",
    "                                                            \"海面上の高さ(ｍ)\":\"above sea level (m)\",\n",
    "                                                            \"風速計の高さ(ｍ)\":\"anemometer height (m)\",\n",
    "                                                            \"温度計の高さ(ｍ)\":\"thermometer height (m)\",\n",
    "                                                            \"観測開始年月日\":\"observation beginning date\",\n",
    "                                                            \"備考1\":\"remark1\",\n",
    "                                                            \"備考2\":\"remark2\"})\n",
    "    \n",
    "    #set indices with the name of area and observation point\n",
    "    observation_points.set_index([\"area\",\"point\"], inplace=True)\n",
    "    \n",
    "    return observation_points"
   ]
  },
  {
   "cell_type": "code",
   "execution_count": 2,
   "metadata": {},
   "outputs": [],
   "source": [
    "def merge_data(df, observation_points):\n",
    "    \"\"\"merge df with observation_points\"\"\"\n",
    "    \n",
    "    #reduce columns in observation_points\n",
    "    observation_points = observation_points[[\"katakana\",\"latitude degree\",\"latitude minute\",\"longitude degree\",\"longitude minute\"]]\n",
    "\n",
    "    #merge df with observation_points\n",
    "    df = pd.merge(df, observation_points, left_index=True, right_on=[\"area\",\"point\"], how=\"left\")\n",
    "    \n",
    "    return df"
   ]
  },
  {
   "cell_type": "code",
   "execution_count": null,
   "metadata": {},
   "outputs": [],
   "source": [
    "def process_data(df):\n",
    "    \"\"\"process df for analysis\"\"\"\n",
    "    \n",
    "    #remove rows without any information from observation_points\n",
    "    df = df[df[\"katakana\"].isna()==False]\n",
    "    \n",
    "    #convert from japanese character \"katakana\" to roman character\n",
    "    df[\"katakana\"] = df[\"katakana\"].map(jp2en)\n",
    "\n",
    "    #convert latitude into decimal number\n",
    "    i = df[\"latitude minute\"].map(int)\n",
    "    f = df[\"latitude minute\"] - df[\"latitude minute\"].map(int)\n",
    "    df[\"latitude\"] = df[\"latitude degree\"] + i / 60 + f / 60**2\n",
    "\n",
    "    #convert longitude into decimal number\n",
    "    i = df[\"longitude minute\"].map(int)\n",
    "    f = df[\"longitude minute\"] - df[\"longitude minute\"].map(int)\n",
    "    df[\"longitude\"] = df[\"longitude degree\"] + i / 60 + f / 60**2\n",
    "    \n",
    "    return df"
   ]
  },
  {
   "cell_type": "code",
   "execution_count": null,
   "metadata": {},
   "outputs": [],
   "source": [
    "def create_csv(df):\n",
    "    \"\"\"create csv for df\"\"\"\n",
    "    df.to_csv(\"japan_average_temp_1976-2020.csv\")"
   ]
  }
 ],
 "metadata": {
  "kernelspec": {
   "display_name": "Python 3",
   "language": "python",
   "name": "python3"
  },
  "language_info": {
   "codemirror_mode": {
    "name": "ipython",
    "version": 3
   },
   "file_extension": ".py",
   "mimetype": "text/x-python",
   "name": "python",
   "nbconvert_exporter": "python",
   "pygments_lexer": "ipython3",
   "version": "3.7.4"
  }
 },
 "nbformat": 4,
 "nbformat_minor": 2
}
